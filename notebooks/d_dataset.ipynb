{
 "cells": [
  {
   "cell_type": "code",
   "execution_count": 4,
   "id": "f8a637e1-e4e4-4b5a-aa8f-8c0b8120fb23",
   "metadata": {},
   "outputs": [],
   "source": [
    "import json\n",
    "with open('../artifacts/kaggle.json', 'r') as file:\n",
    "    data = json.load(file)"
   ]
  },
  {
   "cell_type": "code",
   "execution_count": 5,
   "id": "739777ae-db4f-4d17-a0d0-a2056fe1c2e8",
   "metadata": {},
   "outputs": [
    {
     "data": {
      "text/plain": [
       "{'username': 'dilinisubasinghe', 'key': '3b1479e94666a9f0a45e86ae8e7e724e'}"
      ]
     },
     "execution_count": 5,
     "metadata": {},
     "output_type": "execute_result"
    }
   ],
   "source": [
    "data"
   ]
  },
  {
   "cell_type": "code",
   "execution_count": 6,
   "id": "bb7b51bd-3782-42b0-8719-7ef2c12a681f",
   "metadata": {},
   "outputs": [
    {
     "name": "stdout",
     "output_type": "stream",
     "text": [
      "Defaulting to user installation because normal site-packages is not writeable\n",
      "Collecting kaggle\n",
      "  Downloading kaggle-1.6.14.tar.gz (82 kB)\n",
      "     ---------------------------------------- 0.0/82.1 kB ? eta -:--:--\n",
      "     -------------- ------------------------- 30.7/82.1 kB 1.3 MB/s eta 0:00:01\n",
      "     -------------- ------------------------- 30.7/82.1 kB 1.3 MB/s eta 0:00:01\n",
      "     -------------- ------------------------- 30.7/82.1 kB 1.3 MB/s eta 0:00:01\n",
      "     -------------- ------------------------- 30.7/82.1 kB 1.3 MB/s eta 0:00:01\n",
      "     -------------- ------------------------- 30.7/82.1 kB 1.3 MB/s eta 0:00:01\n",
      "     -------------- ------------------------- 30.7/82.1 kB 1.3 MB/s eta 0:00:01\n",
      "     ------------------ ------------------- 41.0/82.1 kB 108.9 kB/s eta 0:00:01\n",
      "     ------------------ ------------------- 41.0/82.1 kB 108.9 kB/s eta 0:00:01\n",
      "     ----------------------- -------------- 51.2/82.1 kB 124.5 kB/s eta 0:00:01\n",
      "     ----------------------- -------------- 51.2/82.1 kB 124.5 kB/s eta 0:00:01\n",
      "     ----------------------- -------------- 51.2/82.1 kB 124.5 kB/s eta 0:00:01\n",
      "     ----------------------- -------------- 51.2/82.1 kB 124.5 kB/s eta 0:00:01\n",
      "     ----------------------- -------------- 51.2/82.1 kB 124.5 kB/s eta 0:00:01\n",
      "     ----------------------- -------------- 51.2/82.1 kB 124.5 kB/s eta 0:00:01\n",
      "     ----------------------- -------------- 51.2/82.1 kB 124.5 kB/s eta 0:00:01\n",
      "     -------------------------------------  81.9/82.1 kB 111.8 kB/s eta 0:00:01\n",
      "     -------------------------------------- 82.1/82.1 kB 106.9 kB/s eta 0:00:00\n",
      "  Preparing metadata (setup.py): started\n",
      "  Preparing metadata (setup.py): finished with status 'done'\n",
      "Requirement already satisfied: six>=1.10 in c:\\programdata\\anaconda3\\lib\\site-packages (from kaggle) (1.16.0)\n",
      "Requirement already satisfied: certifi>=2023.7.22 in c:\\programdata\\anaconda3\\lib\\site-packages (from kaggle) (2024.2.2)\n",
      "Requirement already satisfied: python-dateutil in c:\\programdata\\anaconda3\\lib\\site-packages (from kaggle) (2.8.2)\n",
      "Requirement already satisfied: requests in c:\\programdata\\anaconda3\\lib\\site-packages (from kaggle) (2.31.0)\n",
      "Requirement already satisfied: tqdm in c:\\programdata\\anaconda3\\lib\\site-packages (from kaggle) (4.65.0)\n",
      "Requirement already satisfied: python-slugify in c:\\programdata\\anaconda3\\lib\\site-packages (from kaggle) (5.0.2)\n",
      "Requirement already satisfied: urllib3 in c:\\programdata\\anaconda3\\lib\\site-packages (from kaggle) (2.0.7)\n",
      "Requirement already satisfied: bleach in c:\\programdata\\anaconda3\\lib\\site-packages (from kaggle) (4.1.0)\n",
      "Requirement already satisfied: packaging in c:\\programdata\\anaconda3\\lib\\site-packages (from bleach->kaggle) (23.1)\n",
      "Requirement already satisfied: webencodings in c:\\programdata\\anaconda3\\lib\\site-packages (from bleach->kaggle) (0.5.1)\n",
      "Requirement already satisfied: text-unidecode>=1.3 in c:\\programdata\\anaconda3\\lib\\site-packages (from python-slugify->kaggle) (1.3)\n",
      "Requirement already satisfied: charset-normalizer<4,>=2 in c:\\programdata\\anaconda3\\lib\\site-packages (from requests->kaggle) (2.0.4)\n",
      "Requirement already satisfied: idna<4,>=2.5 in c:\\programdata\\anaconda3\\lib\\site-packages (from requests->kaggle) (3.4)\n",
      "Requirement already satisfied: colorama in c:\\programdata\\anaconda3\\lib\\site-packages (from tqdm->kaggle) (0.4.6)\n",
      "Building wheels for collected packages: kaggle\n",
      "  Building wheel for kaggle (setup.py): started\n",
      "  Building wheel for kaggle (setup.py): finished with status 'done'\n",
      "  Created wheel for kaggle: filename=kaggle-1.6.14-py3-none-any.whl size=105130 sha256=8f343b19f60909b79a49227d008b2411c991cb3d53037b4c567b365c19c88447\n",
      "  Stored in directory: c:\\users\\apex\\appdata\\local\\pip\\cache\\wheels\\ec\\d9\\04\\93be57edf3835182a8e76d8ff87f7e77a0113f473ba3721ee0\n",
      "Successfully built kaggle\n",
      "Installing collected packages: kaggle\n",
      "Successfully installed kaggle-1.6.14\n"
     ]
    },
    {
     "name": "stderr",
     "output_type": "stream",
     "text": [
      "  WARNING: The script kaggle.exe is installed in 'C:\\Users\\Apex\\AppData\\Roaming\\Python\\Python311\\Scripts' which is not on PATH.\n",
      "  Consider adding this directory to PATH or, if you prefer to suppress this warning, use --no-warn-script-location.\n"
     ]
    }
   ],
   "source": [
    "!pip install kaggle"
   ]
  },
  {
   "cell_type": "code",
   "execution_count": 7,
   "id": "f55c2c9d-d31a-40b8-b5be-499b79e53cbd",
   "metadata": {},
   "outputs": [],
   "source": [
    "import os\n",
    "os.environ['KAGGLE_USERNAME'] = data['username']\n",
    "os.environ['KAGGLE_KEY'] = data['key']"
   ]
  },
  {
   "cell_type": "code",
   "execution_count": 8,
   "id": "6d9ea4bf-c1d1-45b2-a746-f385e2de3610",
   "metadata": {},
   "outputs": [],
   "source": [
    "#keggle web site ekath ekka connect wemu, 1. keggle api kiyana clz eka import kara gannwa 2.ekt adalawa object ekk create kara gannwa, 3.aobject ekt call karnwa\n",
    "from kaggle.api.kaggle_api_extended import KaggleApi  \n",
    "api = KaggleApi()\n",
    "api.authenticate()\n",
    "\n"
   ]
  },
  {
   "cell_type": "code",
   "execution_count": 9,
   "id": "156809ca-f7d7-4a9f-9a0d-ad8167853719",
   "metadata": {},
   "outputs": [
    {
     "name": "stdout",
     "output_type": "stream",
     "text": [
      "Dataset URL: https://www.kaggle.com/datasets/dineshpiyasamara/sentiment-analysis-dataset\n"
     ]
    }
   ],
   "source": [
    "#den me API eka haraha onama dataset ekk download karnna puluwan\n",
    "api.dataset_download_files('dineshpiyasamara/sentiment-analysis-dataset', path='../artifacts/')"
   ]
  },
  {
   "cell_type": "code",
   "execution_count": 10,
   "id": "6093efcd-1037-490c-adec-01137f301014",
   "metadata": {},
   "outputs": [],
   "source": [
    "import zipfile\n",
    "with zipfile.ZipFile('../artifacts/sentiment-analysis-dataset.zip', 'r') as zip_ref:\n",
    "    zip_ref.extractall('../artifacts/')"
   ]
  },
  {
   "cell_type": "code",
   "execution_count": null,
   "id": "774bda48-0af8-4482-aeb2-cd44b26bc3e9",
   "metadata": {},
   "outputs": [],
   "source": []
  }
 ],
 "metadata": {
  "kernelspec": {
   "display_name": "Python 3 (ipykernel)",
   "language": "python",
   "name": "python3"
  },
  "language_info": {
   "codemirror_mode": {
    "name": "ipython",
    "version": 3
   },
   "file_extension": ".py",
   "mimetype": "text/x-python",
   "name": "python",
   "nbconvert_exporter": "python",
   "pygments_lexer": "ipython3",
   "version": "3.11.7"
  }
 },
 "nbformat": 4,
 "nbformat_minor": 5
}

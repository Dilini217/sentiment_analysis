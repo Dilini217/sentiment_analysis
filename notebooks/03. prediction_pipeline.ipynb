{
 "cells": [
  {
   "cell_type": "code",
   "execution_count": 40,
   "id": "62637c15-77dc-44ab-bae7-fa0d51d455f5",
   "metadata": {},
   "outputs": [],
   "source": [
    "import numpy as np \n",
    "import pandas as pd\n",
    "import re\n",
    "import string\n",
    "import pickle"
   ]
  },
  {
   "cell_type": "code",
   "execution_count": 90,
   "id": "bd92d130-0f0f-4ab7-84fe-840bb9141446",
   "metadata": {},
   "outputs": [],
   "source": [
    "def remove_punctuations(text):\n",
    "    for punctuation in string.punctuation:\n",
    "        text = text.replace(punctuation,'')\n",
    "    return text\n"
   ]
  },
  {
   "cell_type": "markdown",
   "id": "a1a533b0-d3f0-4f0d-bdb0-87e2b322d1c4",
   "metadata": {},
   "source": [
    "## let's load the model before we created"
   ]
  },
  {
   "cell_type": "code",
   "execution_count": 106,
   "id": "33c59b1e-d160-46b6-8e34-c310856feece",
   "metadata": {},
   "outputs": [],
   "source": [
    "with open('../static/model/model.pickle', 'rb') as f:\n",
    "    model = pickle.load(f)"
   ]
  },
  {
   "cell_type": "code",
   "execution_count": 107,
   "id": "c56ebf28-0427-4431-8bc2-6463985b02e9",
   "metadata": {},
   "outputs": [],
   "source": [
    "with open('../static/model/corpora/stopwords/english', 'r') as file:\n",
    "    sw = file.read().splitlines()"
   ]
  },
  {
   "cell_type": "code",
   "execution_count": 132,
   "id": "18b2cf64-7e13-4dce-85fb-9c2dfc341718",
   "metadata": {},
   "outputs": [],
   "source": [
    "vocab = pd.read_csv('../static/model/vocabulary.txt', header=None)\n",
    "tokens = vocab[0].tolist()"
   ]
  },
  {
   "cell_type": "code",
   "execution_count": 133,
   "id": "ade4b4dc-1bd4-41c4-b7fc-19dbece1fe6e",
   "metadata": {},
   "outputs": [],
   "source": [
    "from nltk.stem import PorterStemmer\n",
    "ps = PorterStemmer()"
   ]
  },
  {
   "cell_type": "code",
   "execution_count": 134,
   "id": "53c272a9-8ac5-445e-a599-bfe7ad4cd3e5",
   "metadata": {},
   "outputs": [],
   "source": [
    "def preprocessing(text):\n",
    "    data = pd.DataFrame([text], columns=['tweet'])\n",
    "    data['tweet'] = data['tweet'].apply(lambda x: \" \".join(x.lower() for x in x.split()))\n",
    "    data[\"tweet\"] = data['tweet'].apply(lambda x: \" \".join(re.sub(r'^https?:\\/\\/.*[\\r\\n]*', '', x,  flags=re.MULTILINE) for x in x.split()))\n",
    "    data[\"tweet\"] = data[\"tweet\"].apply(remove_punctuations)\n",
    "    data[\"tweet\"] = data['tweet'].str.replace('/d+', '', regex=True)\n",
    "    data[\"tweet\"] = data[\"tweet\"].apply(lambda x: \" \".join(x for x in x.split() if x not in sw))\n",
    "    data[\"tweet\"] = data[\"tweet\"].apply(lambda x: \" \".join(ps.stem(x) for x in x.split()))\n",
    "    return data[\"tweet\"]"
   ]
  },
  {
   "cell_type": "code",
   "execution_count": 136,
   "id": "36a3b407-2c03-4b6a-968a-bc051f66e6fd",
   "metadata": {},
   "outputs": [],
   "source": [
    "def vectorizer(ds, vocabulary):\n",
    "    vectorized_lst = []\n",
    "    \n",
    "    for sentence in ds:\n",
    "        sentence_lst = np.zeros(len(vocabulary))\n",
    "        \n",
    "        for i in range(len(vocabulary)):\n",
    "            if vocabulary[i] in sentence.split():\n",
    "                sentence_lst[i] = 1\n",
    "                \n",
    "        vectorized_lst.append(sentence_lst)\n",
    "        \n",
    "    vectorized_lst_new = np.asarray(vectorized_lst, dtype=np.float32)\n",
    "    \n",
    "    return vectorized_lst_new"
   ]
  },
  {
   "cell_type": "code",
   "execution_count": 137,
   "id": "1583b828-85f4-45ae-b85c-0adfb4372279",
   "metadata": {},
   "outputs": [],
   "source": [
    "vectorized_txt = vectorizer(preprocessed_txt, tokens)"
   ]
  },
  {
   "cell_type": "code",
   "execution_count": 139,
   "id": "f3b31d40-7e8a-451f-a4cf-9718734cb54a",
   "metadata": {},
   "outputs": [],
   "source": [
    "preprocessed_txt = preprocessing(txt)"
   ]
  },
  {
   "cell_type": "code",
   "execution_count": 140,
   "id": "a22edb5b-3738-4101-b860-1e0de95e3cc4",
   "metadata": {},
   "outputs": [
    {
     "data": {
      "text/plain": [
       "array([[0., 0., 0., ..., 0., 0., 0.]], dtype=float32)"
      ]
     },
     "execution_count": 140,
     "metadata": {},
     "output_type": "execute_result"
    }
   ],
   "source": [
    "vectorized_txt"
   ]
  },
  {
   "cell_type": "code",
   "execution_count": 146,
   "id": "634f08a0-73b6-4b5a-ad2f-9a25d6ec0cda",
   "metadata": {},
   "outputs": [],
   "source": [
    "def get_prediction(vectorized_text):\n",
    "    predicition = model.predict(vectorized_text)\n",
    "    if prediction == 1:\n",
    "        return 'negative'\n",
    "    else:\n",
    "        return 'Positive'"
   ]
  },
  {
   "cell_type": "markdown",
   "id": "de9f9a1f-5638-4a4a-934a-a8bdf263129b",
   "metadata": {},
   "source": [
    "## Bad reveiw(negative) = 1 &  Good reveiw(positive) = 1"
   ]
  },
  {
   "cell_type": "code",
   "execution_count": 149,
   "id": "4a4ef7d9-91c9-4e6c-8b65-2cca46281239",
   "metadata": {
    "scrolled": true
   },
   "outputs": [
    {
     "data": {
      "text/plain": [
       "'Positive'"
      ]
     },
     "execution_count": 149,
     "metadata": {},
     "output_type": "execute_result"
    }
   ],
   "source": [
    "txt = \"awesome product. I love it\"\n",
    "preprocessed_txt = preprocessing(txt)\n",
    "vectorized_txt = vectorizer(preprocessed_txt, tokens)\n",
    "prediction = get_prediction(vectorized_txt)\n",
    "prediction"
   ]
  },
  {
   "cell_type": "code",
   "execution_count": null,
   "id": "da42802e-d229-4e6a-9a9e-a9fb49567ed6",
   "metadata": {},
   "outputs": [],
   "source": []
  }
 ],
 "metadata": {
  "kernelspec": {
   "display_name": "Python 3 (ipykernel)",
   "language": "python",
   "name": "python3"
  },
  "language_info": {
   "codemirror_mode": {
    "name": "ipython",
    "version": 3
   },
   "file_extension": ".py",
   "mimetype": "text/x-python",
   "name": "python",
   "nbconvert_exporter": "python",
   "pygments_lexer": "ipython3",
   "version": "3.11.7"
  }
 },
 "nbformat": 4,
 "nbformat_minor": 5
}
